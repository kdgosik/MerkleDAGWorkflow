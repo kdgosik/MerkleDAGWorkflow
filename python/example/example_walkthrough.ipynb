{
 "cells": [
  {
   "cell_type": "markdown",
   "metadata": {},
   "source": [
    "## Load Packages"
   ]
  },
  {
   "cell_type": "code",
   "execution_count": null,
   "metadata": {},
   "outputs": [],
   "source": [
    "import hashlib\n",
    "import os\n",
    "import json\n",
    "import datetime as date\n",
    "import pandas as pd"
   ]
  },
  {
   "cell_type": "markdown",
   "metadata": {},
   "source": [
    "## Creating Helper Functions"
   ]
  },
  {
   "cell_type": "code",
   "execution_count": null,
   "metadata": {},
   "outputs": [],
   "source": [
    "def hash_file(filename):\n",
    "    BLOCKSIZE = 65536\n",
    "    hasher = hashlib.sha256()\n",
    "    with open(filename, 'rb') as afile:\n",
    "        buf = afile.read(BLOCKSIZE)\n",
    "        while len(buf) > 0:\n",
    "            hasher.update(buf)\n",
    "            buf = afile.read(BLOCKSIZE)\n",
    "    return(hasher.hexdigest())"
   ]
  },
  {
   "cell_type": "code",
   "execution_count": null,
   "metadata": {},
   "outputs": [],
   "source": [
    "## maybe do not need the timestamp and name included?\n",
    "\n",
    "def hash_block(block):\n",
    "    sha = hashlib.sha256()\n",
    "    sha.update(str(block['name']) + \n",
    "               str(block['timestamp']) + \n",
    "               str(block['data']) + \n",
    "               str(block['previous_hash']))\n",
    "    return sha.hexdigest()"
   ]
  },
  {
   "cell_type": "markdown",
   "metadata": {},
   "source": [
    "## Hash Input File\n",
    "\n",
    "This can be used as an id of the file.  It is based off of the file contents and therefore if anything in the file changes so does the hash."
   ]
  },
  {
   "cell_type": "code",
   "execution_count": null,
   "metadata": {},
   "outputs": [],
   "source": [
    "hash_file('iris.csv')"
   ]
  },
  {
   "cell_type": "markdown",
   "metadata": {},
   "source": [
    "## Testing Script\n",
    "This part is a small development portion to be used in the making of a python script used below.  "
   ]
  },
  {
   "cell_type": "code",
   "execution_count": null,
   "metadata": {},
   "outputs": [],
   "source": [
    "iris = pd.read_csv('iris.csv')\n",
    "iris_group = iris.groupby('Species').mean()\n",
    "iris_group.to_csv('iris_group.csv')"
   ]
  },
  {
   "cell_type": "markdown",
   "metadata": {},
   "source": [
    "## Creating Script\n",
    "The following cell acutally creates the python script to calculate and then save the group means to a csv file.  "
   ]
  },
  {
   "cell_type": "code",
   "execution_count": null,
   "metadata": {},
   "outputs": [],
   "source": [
    "%%writefile iris_groupmeans.py\n",
    "\n",
    "import pandas as pd\n",
    "\n",
    "iris = pd.read_csv('iris.csv')\n",
    "iris_group = iris.groupby('Species').mean()\n",
    "iris_group.to_csv('iris_group.csv')"
   ]
  },
  {
   "cell_type": "markdown",
   "metadata": {},
   "source": [
    "## Hashing Created Python Script\n",
    "Hashing the script file in order to get the content hash to use in the block creation."
   ]
  },
  {
   "cell_type": "code",
   "execution_count": null,
   "metadata": {},
   "outputs": [],
   "source": [
    "hash_file('iris_groupmeans.py')"
   ]
  },
  {
   "cell_type": "markdown",
   "metadata": {},
   "source": [
    "## Hashing Output File\n",
    "Hashing the created output file to get the content hash to use in the block creation."
   ]
  },
  {
   "cell_type": "code",
   "execution_count": null,
   "metadata": {},
   "outputs": [],
   "source": [
    "hash_file('iris_group.csv')"
   ]
  },
  {
   "cell_type": "markdown",
   "metadata": {},
   "source": [
    "## Creating Block"
   ]
  },
  {
   "cell_type": "code",
   "execution_count": null,
   "metadata": {},
   "outputs": [],
   "source": [
    "block = {'name': 'iris_group.csv', \n",
    "         'data': hash_file('iris_group.csv'), \n",
    "         'timestamp': str(date.datetime.now()), \n",
    "         'previous_hash': [hash_file('iris.csv'), hash_file('iris_groupmeans.py')], \n",
    "         'hash': ''}"
   ]
  },
  {
   "cell_type": "code",
   "execution_count": null,
   "metadata": {},
   "outputs": [],
   "source": [
    "block"
   ]
  },
  {
   "cell_type": "code",
   "execution_count": null,
   "metadata": {},
   "outputs": [],
   "source": [
    "block['hash'] = hash_block(block)"
   ]
  },
  {
   "cell_type": "code",
   "execution_count": null,
   "metadata": {},
   "outputs": [],
   "source": [
    "block"
   ]
  },
  {
   "cell_type": "markdown",
   "metadata": {},
   "source": [
    "## Loading merkledag package\n",
    "\n",
    "testing out functionality of package"
   ]
  },
  {
   "cell_type": "code",
   "execution_count": null,
   "metadata": {},
   "outputs": [],
   "source": [
    "!pip install /Users/kgosik/Documents/Projects/MerkleDAGWorkflow/python/pypi_package/merkledag"
   ]
  },
  {
   "cell_type": "code",
   "execution_count": 1,
   "metadata": {},
   "outputs": [],
   "source": [
    "from merkledag import *"
   ]
  },
  {
   "cell_type": "code",
   "execution_count": 2,
   "metadata": {},
   "outputs": [],
   "source": [
    "init()"
   ]
  },
  {
   "cell_type": "code",
   "execution_count": 3,
   "metadata": {},
   "outputs": [],
   "source": [
    "iris_block = create_genesis_block('iris.csv')"
   ]
  },
  {
   "cell_type": "code",
   "execution_count": 4,
   "metadata": {},
   "outputs": [
    {
     "data": {
      "text/plain": [
       "'896a5bc0bfeb229774e5545661441825e50be1a3c510082566e2dc23d7596a4e'"
      ]
     },
     "execution_count": 4,
     "metadata": {},
     "output_type": "execute_result"
    }
   ],
   "source": [
    "iris_block.hash"
   ]
  },
  {
   "cell_type": "code",
   "execution_count": 5,
   "metadata": {},
   "outputs": [
    {
     "data": {
      "text/plain": [
       "'396c921bc9cf625a4ab755540084aa3d0d941c4ffed8681299689b1f502c3ac2'"
      ]
     },
     "execution_count": 5,
     "metadata": {},
     "output_type": "execute_result"
    }
   ],
   "source": [
    "iris_block.data"
   ]
  },
  {
   "cell_type": "code",
   "execution_count": 6,
   "metadata": {},
   "outputs": [
    {
     "data": {
      "text/plain": [
       "['GenesisFile']"
      ]
     },
     "execution_count": 6,
     "metadata": {},
     "output_type": "execute_result"
    }
   ],
   "source": [
    "iris_block.previous_hashes"
   ]
  },
  {
   "cell_type": "code",
   "execution_count": 7,
   "metadata": {},
   "outputs": [
    {
     "data": {
      "text/plain": [
       "'896a5bc0bfeb229774e5545661441825e50be1a3c510082566e2dc23d7596a4e'"
      ]
     },
     "execution_count": 7,
     "metadata": {},
     "output_type": "execute_result"
    }
   ],
   "source": [
    "import hashlib\n",
    "\n",
    "hashlib.sha256(str(iris_block.name) + \n",
    "               #str(iris_block.timestamp) + \n",
    "               str(iris_block.data) + \n",
    "               str(iris_block.previous_hashes)).hexdigest()"
   ]
  },
  {
   "cell_type": "code",
   "execution_count": 14,
   "metadata": {},
   "outputs": [
    {
     "data": {
      "text/plain": [
       "{'data': '396c921bc9cf625a4ab755540084aa3d0d941c4ffed8681299689b1f502c3ac2',\n",
       " 'hash': '896a5bc0bfeb229774e5545661441825e50be1a3c510082566e2dc23d7596a4e',\n",
       " 'name': 'iris.csv',\n",
       " 'previous_hashes': ['GenesisFile'],\n",
       " 'timestamp': '2018-09-20 17:07:20.783649'}"
      ]
     },
     "execution_count": 14,
     "metadata": {},
     "output_type": "execute_result"
    }
   ],
   "source": [
    "iris_block.__dict__"
   ]
  },
  {
   "cell_type": "code",
   "execution_count": 15,
   "metadata": {},
   "outputs": [],
   "source": [
    "check = Block('iris.csv', date.datetime.now(), ['GenesisFile', 'AnotherFile'])"
   ]
  },
  {
   "cell_type": "code",
   "execution_count": 16,
   "metadata": {},
   "outputs": [
    {
     "data": {
      "text/plain": [
       "{'data': '396c921bc9cf625a4ab755540084aa3d0d941c4ffed8681299689b1f502c3ac2',\n",
       " 'hash': '5573c711be2cad5d51dd1ce352f47465cb7398240f78d40b5c61c24df853ab29',\n",
       " 'name': 'iris.csv',\n",
       " 'previous_hashes': ['AnotherFile', 'GenesisFile'],\n",
       " 'timestamp': '2018-09-20 17:10:26.225565'}"
      ]
     },
     "execution_count": 16,
     "metadata": {},
     "output_type": "execute_result"
    }
   ],
   "source": [
    "check.__dict__"
   ]
  },
  {
   "cell_type": "code",
   "execution_count": 17,
   "metadata": {},
   "outputs": [],
   "source": [
    "check2 = Block('iris.csv', date.datetime.now(), ['AnotherFile', 'GenesisFile'])"
   ]
  },
  {
   "cell_type": "code",
   "execution_count": 18,
   "metadata": {},
   "outputs": [
    {
     "data": {
      "text/plain": [
       "{'data': '396c921bc9cf625a4ab755540084aa3d0d941c4ffed8681299689b1f502c3ac2',\n",
       " 'hash': '5573c711be2cad5d51dd1ce352f47465cb7398240f78d40b5c61c24df853ab29',\n",
       " 'name': 'iris.csv',\n",
       " 'previous_hashes': ['AnotherFile', 'GenesisFile'],\n",
       " 'timestamp': '2018-09-20 17:10:27.050923'}"
      ]
     },
     "execution_count": 18,
     "metadata": {},
     "output_type": "execute_result"
    }
   ],
   "source": [
    "check2.__dict__"
   ]
  },
  {
   "cell_type": "code",
   "execution_count": 19,
   "metadata": {},
   "outputs": [
    {
     "data": {
      "text/plain": [
       "False"
      ]
     },
     "execution_count": 19,
     "metadata": {},
     "output_type": "execute_result"
    }
   ],
   "source": [
    "check == check2"
   ]
  },
  {
   "cell_type": "code",
   "execution_count": null,
   "metadata": {},
   "outputs": [],
   "source": []
  },
  {
   "cell_type": "code",
   "execution_count": null,
   "metadata": {},
   "outputs": [],
   "source": []
  }
 ],
 "metadata": {
  "kernelspec": {
   "display_name": "Python [conda env:anaconda]",
   "language": "python",
   "name": "conda-env-anaconda-py"
  },
  "language_info": {
   "codemirror_mode": {
    "name": "ipython",
    "version": 2
   },
   "file_extension": ".py",
   "mimetype": "text/x-python",
   "name": "python",
   "nbconvert_exporter": "python",
   "pygments_lexer": "ipython2",
   "version": "2.7.14"
  }
 },
 "nbformat": 4,
 "nbformat_minor": 2
}
