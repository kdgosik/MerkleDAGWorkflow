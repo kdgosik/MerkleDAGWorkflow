{
 "cells": [
  {
   "cell_type": "markdown",
   "metadata": {},
   "source": [
    "## Load Packages"
   ]
  },
  {
   "cell_type": "code",
   "execution_count": null,
   "metadata": {},
   "outputs": [],
   "source": [
    "import hashlib\n",
    "import os\n",
    "import json\n",
    "import datetime as date\n",
    "import pandas as pd"
   ]
  },
  {
   "cell_type": "markdown",
   "metadata": {},
   "source": [
    "## Creating Helper Functions"
   ]
  },
  {
   "cell_type": "code",
   "execution_count": 16,
   "metadata": {},
   "outputs": [],
   "source": [
    "def hash_file(filename):\n",
    "    BLOCKSIZE = 65536\n",
    "    hasher = hashlib.sha256()\n",
    "    with open(filename, 'rb') as afile:\n",
    "        buf = afile.read(BLOCKSIZE)\n",
    "        while len(buf) > 0:\n",
    "            hasher.update(buf)\n",
    "            buf = afile.read(BLOCKSIZE)\n",
    "    return(hasher.hexdigest())"
   ]
  },
  {
   "cell_type": "code",
   "execution_count": 17,
   "metadata": {},
   "outputs": [],
   "source": [
    "## maybe do not need the timestamp and name included?\n",
    "\n",
    "def hash_block(block):\n",
    "    sha = hashlib.sha256()\n",
    "    sha.update(str(block['name']) + \n",
    "               str(block['timestamp']) + \n",
    "               str(block['data']) + \n",
    "               str(block['previous_hash']))\n",
    "    return sha.hexdigest()"
   ]
  },
  {
   "cell_type": "markdown",
   "metadata": {},
   "source": [
    "## Hash Input File\n",
    "\n",
    "This can be used as an id of the file.  It is based off of the file contents and therefore if anything in the file changes so does the hash."
   ]
  },
  {
   "cell_type": "code",
   "execution_count": 18,
   "metadata": {},
   "outputs": [
    {
     "data": {
      "text/plain": [
       "'396c921bc9cf625a4ab755540084aa3d0d941c4ffed8681299689b1f502c3ac2'"
      ]
     },
     "execution_count": 18,
     "metadata": {},
     "output_type": "execute_result"
    }
   ],
   "source": [
    "hash_file('python/example/iris.csv')"
   ]
  },
  {
   "cell_type": "markdown",
   "metadata": {},
   "source": [
    "## Testing Script\n",
    "This part is a small development portion to be used in the making of a pthon script below."
   ]
  },
  {
   "cell_type": "code",
   "execution_count": 8,
   "metadata": {},
   "outputs": [],
   "source": [
    "iris = pd.read_csv('python/example/iris.csv')\n",
    "iris_group = iris.groupby('Species').mean()\n",
    "iris_group.to_csv('iris_group.csv')"
   ]
  },
  {
   "cell_type": "markdown",
   "metadata": {},
   "source": [
    "## Creating Script"
   ]
  },
  {
   "cell_type": "code",
   "execution_count": 9,
   "metadata": {},
   "outputs": [
    {
     "name": "stdout",
     "output_type": "stream",
     "text": [
      "Overwriting iris_groupmeans.py\n"
     ]
    }
   ],
   "source": [
    "%%writefile iris_groupmeans.py\n",
    "\n",
    "import pandas as pd\n",
    "\n",
    "iris = pd.read_csv('python/example/iris.csv')\n",
    "iris_group = iris.groupby('Species').mean()\n",
    "iris_group.to_csv('iris_group.csv')"
   ]
  },
  {
   "cell_type": "code",
   "execution_count": 10,
   "metadata": {},
   "outputs": [
    {
     "data": {
      "text/plain": [
       "'0178e3f70e90c491f44c7a9179c44f35ee45f3a28ded3be5a4f55c3e8409fa05'"
      ]
     },
     "execution_count": 10,
     "metadata": {},
     "output_type": "execute_result"
    }
   ],
   "source": [
    "hash_file('iris_groupmeans.py')"
   ]
  },
  {
   "cell_type": "code",
   "execution_count": 11,
   "metadata": {},
   "outputs": [
    {
     "data": {
      "text/plain": [
       "'fd570681461a0990b120ae70ca2bddd196a908e3c67dd0b5478dbda8afe7d54f'"
      ]
     },
     "execution_count": 11,
     "metadata": {},
     "output_type": "execute_result"
    }
   ],
   "source": [
    "hash_file('iris_group.csv')"
   ]
  },
  {
   "cell_type": "code",
   "execution_count": 12,
   "metadata": {},
   "outputs": [],
   "source": [
    "block = {'name': 'iris_group.csv', \n",
    "         'data': hash_file('iris_group.csv'), \n",
    "         'timestamp': str(date.datetime.now()), \n",
    "         'previous_hash': [hash_file('python/example/iris.csv'), hash_file('iris_groupmeans.py')], \n",
    "         'hash': ''}"
   ]
  },
  {
   "cell_type": "code",
   "execution_count": 13,
   "metadata": {},
   "outputs": [
    {
     "data": {
      "text/plain": [
       "{'data': 'fd570681461a0990b120ae70ca2bddd196a908e3c67dd0b5478dbda8afe7d54f',\n",
       " 'hash': '',\n",
       " 'name': 'iris_group.csv',\n",
       " 'previous_hash': ['396c921bc9cf625a4ab755540084aa3d0d941c4ffed8681299689b1f502c3ac2',\n",
       "  '0178e3f70e90c491f44c7a9179c44f35ee45f3a28ded3be5a4f55c3e8409fa05'],\n",
       " 'timestamp': '2018-09-17 18:10:32.108900'}"
      ]
     },
     "execution_count": 13,
     "metadata": {},
     "output_type": "execute_result"
    }
   ],
   "source": [
    "block"
   ]
  },
  {
   "cell_type": "code",
   "execution_count": 14,
   "metadata": {},
   "outputs": [],
   "source": [
    "block['hash'] = hash_block(block)"
   ]
  },
  {
   "cell_type": "code",
   "execution_count": 15,
   "metadata": {},
   "outputs": [
    {
     "data": {
      "text/plain": [
       "{'data': 'fd570681461a0990b120ae70ca2bddd196a908e3c67dd0b5478dbda8afe7d54f',\n",
       " 'hash': '54fadd7ff3782fe1431709dd53b9c6f5f0659b0e5433ee95d272d7157cb4a87c',\n",
       " 'name': 'iris_group.csv',\n",
       " 'previous_hash': ['396c921bc9cf625a4ab755540084aa3d0d941c4ffed8681299689b1f502c3ac2',\n",
       "  '0178e3f70e90c491f44c7a9179c44f35ee45f3a28ded3be5a4f55c3e8409fa05'],\n",
       " 'timestamp': '2018-09-17 18:10:32.108900'}"
      ]
     },
     "execution_count": 15,
     "metadata": {},
     "output_type": "execute_result"
    }
   ],
   "source": [
    "block"
   ]
  }
 ],
 "metadata": {
  "kernelspec": {
   "display_name": "Python [conda env:anaconda]",
   "language": "python",
   "name": "conda-env-anaconda-py"
  },
  "language_info": {
   "codemirror_mode": {
    "name": "ipython",
    "version": 2
   },
   "file_extension": ".py",
   "mimetype": "text/x-python",
   "name": "python",
   "nbconvert_exporter": "python",
   "pygments_lexer": "ipython2",
   "version": "2.7.14"
  }
 },
 "nbformat": 4,
 "nbformat_minor": 2
}
